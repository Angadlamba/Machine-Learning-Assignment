{
 "cells": [
  {
   "cell_type": "code",
   "execution_count": 1,
   "metadata": {
    "collapsed": true
   },
   "outputs": [],
   "source": [
    "import graphlab"
   ]
  },
  {
   "cell_type": "code",
   "execution_count": 14,
   "metadata": {
    "collapsed": false
   },
   "outputs": [
    {
     "data": {
      "text/html": [
       "<pre>Unable to parse line \"178105,17.8105,45.1,25,2.3,E. Goshen,Chester\"</pre>"
      ],
      "text/plain": [
       "Unable to parse line \"178105,17.8105,45.1,25,2.3,E. Goshen,Chester\""
      ]
     },
     "metadata": {},
     "output_type": "display_data"
    },
    {
     "data": {
      "text/html": [
       "<pre>Unable to parse line \"42000,4.2,69.9,4,-5.7,\"Phila, West\",Phila\"</pre>"
      ],
      "text/plain": [
       "Unable to parse line \"42000,4.2,69.9,4,-5.7,\"Phila, West\",Phila\""
      ]
     },
     "metadata": {},
     "output_type": "display_data"
    },
    {
     "data": {
      "text/html": [
       "<pre>Unable to parse line \"  }</style><style type=\"text/css\"></style></head><body style=\"\"><pre style=\"word-wrap: break-word; white-space: pre-wrap;\">HousePrice,\"HsPrc ($10,000)\",CrimeRate,MilesPhila,PopChg,Name,County\"</pre>"
      ],
      "text/plain": [
       "Unable to parse line \"  }</style><style type=\"text/css\"></style></head><body style=\"\"><pre style=\"word-wrap: break-word; white-space: pre-wrap;\">HousePrice,\"HsPrc ($10,000)\",CrimeRate,MilesPhila,PopChg,Name,County\""
      ]
     },
     "metadata": {},
     "output_type": "display_data"
    },
    {
     "data": {
      "text/html": [
       "<pre>Unable to parse line \"131025,13.1025,31.3,19,-1.8,E. Norriton,Montgome\"</pre>"
      ],
      "text/plain": [
       "Unable to parse line \"131025,13.1025,31.3,19,-1.8,E. Norriton,Montgome\""
      ]
     },
     "metadata": {},
     "output_type": "display_data"
    },
    {
     "data": {
      "text/html": [
       "<pre>Unable to parse line \"96200,9.62,366.1,0,4.8,\"Phila,CC\",Phila\"</pre>"
      ],
      "text/plain": [
       "Unable to parse line \"96200,9.62,366.1,0,4.8,\"Phila,CC\",Phila\""
      ]
     },
     "metadata": {},
     "output_type": "display_data"
    },
    {
     "data": {
      "text/html": [
       "<pre>Unable to parse line \"140463,14.0463,29.7,10,-1,Abington,Montgome\"</pre>"
      ],
      "text/plain": [
       "Unable to parse line \"140463,14.0463,29.7,10,-1,Abington,Montgome\""
      ]
     },
     "metadata": {},
     "output_type": "display_data"
    },
    {
     "name": "stdout",
     "output_type": "stream",
     "text": [
      "------------------------------------------------------\n",
      "Inferred types from first 100 line(s) of file as \n",
      "column_type_hints=[str]\n",
      "If parsing fails due to incorrect types, you can correct\n",
      "the inferred type list above and pass it to read_csv in\n",
      "the column_type_hints argument\n",
      "------------------------------------------------------\n"
     ]
    },
    {
     "data": {
      "text/html": [
       "<pre>Unable to parse line \"149844,14.9844,24.9,22,6.4,E. Pikeland,Chester\"</pre>"
      ],
      "text/plain": [
       "Unable to parse line \"149844,14.9844,24.9,22,6.4,E. Pikeland,Chester\""
      ]
     },
     "metadata": {},
     "output_type": "display_data"
    },
    {
     "data": {
      "text/html": [
       "<pre>Unable to parse line \"103087,10.3087,24.6,24,3.9,Phoenixville,Chester\"</pre>"
      ],
      "text/plain": [
       "Unable to parse line \"103087,10.3087,24.6,24,3.9,Phoenixville,Chester\""
      ]
     },
     "metadata": {},
     "output_type": "display_data"
    },
    {
     "data": {
      "text/html": [
       "<pre>Unable to parse line \"113033,11.3033,24.1,18,4,Ambler,Montgome\"</pre>"
      ],
      "text/plain": [
       "Unable to parse line \"113033,11.3033,24.1,18,4,Ambler,Montgome\""
      ]
     },
     "metadata": {},
     "output_type": "display_data"
    },
    {
     "data": {
      "text/html": [
       "<pre>Unable to parse line \"170556,17.0556,27.2,30,4.6,E. Whiteland,Chester\"</pre>"
      ],
      "text/plain": [
       "Unable to parse line \"170556,17.0556,27.2,30,4.6,E. Whiteland,Chester\""
      ]
     },
     "metadata": {},
     "output_type": "display_data"
    },
    {
     "data": {
      "text/html": [
       "<pre>Unable to parse line \"147720,14.772,58.6,25,1.5,Plymouth,Montgome\"</pre>"
      ],
      "text/plain": [
       "Unable to parse line \"147720,14.772,58.6,25,1.5,Plymouth,Montgome\""
      ]
     },
     "metadata": {},
     "output_type": "display_data"
    },
    {
     "data": {
      "text/html": [
       "<pre>Unable to parse line \"124186,12.4186,19.5,25,8,Aston,Delaware\"</pre>"
      ],
      "text/plain": [
       "Unable to parse line \"124186,12.4186,19.5,25,8,Aston,Delaware\""
      ]
     },
     "metadata": {},
     "output_type": "display_data"
    },
    {
     "data": {
      "text/html": [
       "<pre>100 lines failed to parse correctly</pre>"
      ],
      "text/plain": [
       "100 lines failed to parse correctly"
      ]
     },
     "metadata": {},
     "output_type": "display_data"
    },
    {
     "data": {
      "text/html": [
       "<pre>Finished parsing file /Users/Angadlamba21/Machine Learning/regression/Philadelphia_Crime_Rate_noNA.csv</pre>"
      ],
      "text/plain": [
       "Finished parsing file /Users/Angadlamba21/Machine Learning/regression/Philadelphia_Crime_Rate_noNA.csv"
      ]
     },
     "metadata": {},
     "output_type": "display_data"
    },
    {
     "data": {
      "text/html": [
       "<pre>Parsing completed. Parsed 27 lines in 0.010425 secs.</pre>"
      ],
      "text/plain": [
       "Parsing completed. Parsed 27 lines in 0.010425 secs."
      ]
     },
     "metadata": {},
     "output_type": "display_data"
    },
    {
     "data": {
      "text/html": [
       "<pre>Unable to parse line \"178105,17.8105,45.1,25,2.3,E. Goshen,Chester\"</pre>"
      ],
      "text/plain": [
       "Unable to parse line \"178105,17.8105,45.1,25,2.3,E. Goshen,Chester\""
      ]
     },
     "metadata": {},
     "output_type": "display_data"
    },
    {
     "data": {
      "text/html": [
       "<pre>Unable to parse line \"  }</style><style type=\"text/css\"></style></head><body style=\"\"><pre style=\"word-wrap: break-word; white-space: pre-wrap;\">HousePrice,\"HsPrc ($10,000)\",CrimeRate,MilesPhila,PopChg,Name,County\"</pre>"
      ],
      "text/plain": [
       "Unable to parse line \"  }</style><style type=\"text/css\"></style></head><body style=\"\"><pre style=\"word-wrap: break-word; white-space: pre-wrap;\">HousePrice,\"HsPrc ($10,000)\",CrimeRate,MilesPhila,PopChg,Name,County\""
      ]
     },
     "metadata": {},
     "output_type": "display_data"
    },
    {
     "data": {
      "text/html": [
       "<pre>Unable to parse line \"42000,4.2,69.9,4,-5.7,\"Phila, West\",Phila\"</pre>"
      ],
      "text/plain": [
       "Unable to parse line \"42000,4.2,69.9,4,-5.7,\"Phila, West\",Phila\""
      ]
     },
     "metadata": {},
     "output_type": "display_data"
    },
    {
     "data": {
      "text/html": [
       "<pre>Unable to parse line \"131025,13.1025,31.3,19,-1.8,E. Norriton,Montgome\"</pre>"
      ],
      "text/plain": [
       "Unable to parse line \"131025,13.1025,31.3,19,-1.8,E. Norriton,Montgome\""
      ]
     },
     "metadata": {},
     "output_type": "display_data"
    },
    {
     "data": {
      "text/html": [
       "<pre>Unable to parse line \"140463,14.0463,29.7,10,-1,Abington,Montgome\"</pre>"
      ],
      "text/plain": [
       "Unable to parse line \"140463,14.0463,29.7,10,-1,Abington,Montgome\""
      ]
     },
     "metadata": {},
     "output_type": "display_data"
    },
    {
     "data": {
      "text/html": [
       "<pre>Unable to parse line \"96200,9.62,366.1,0,4.8,\"Phila,CC\",Phila\"</pre>"
      ],
      "text/plain": [
       "Unable to parse line \"96200,9.62,366.1,0,4.8,\"Phila,CC\",Phila\""
      ]
     },
     "metadata": {},
     "output_type": "display_data"
    },
    {
     "data": {
      "text/html": [
       "<pre>Unable to parse line \"149844,14.9844,24.9,22,6.4,E. Pikeland,Chester\"</pre>"
      ],
      "text/plain": [
       "Unable to parse line \"149844,14.9844,24.9,22,6.4,E. Pikeland,Chester\""
      ]
     },
     "metadata": {},
     "output_type": "display_data"
    },
    {
     "data": {
      "text/html": [
       "<pre>Unable to parse line \"113033,11.3033,24.1,18,4,Ambler,Montgome\"</pre>"
      ],
      "text/plain": [
       "Unable to parse line \"113033,11.3033,24.1,18,4,Ambler,Montgome\""
      ]
     },
     "metadata": {},
     "output_type": "display_data"
    },
    {
     "data": {
      "text/html": [
       "<pre>Unable to parse line \"103087,10.3087,24.6,24,3.9,Phoenixville,Chester\"</pre>"
      ],
      "text/plain": [
       "Unable to parse line \"103087,10.3087,24.6,24,3.9,Phoenixville,Chester\""
      ]
     },
     "metadata": {},
     "output_type": "display_data"
    },
    {
     "data": {
      "text/html": [
       "<pre>Unable to parse line \"170556,17.0556,27.2,30,4.6,E. Whiteland,Chester\"</pre>"
      ],
      "text/plain": [
       "Unable to parse line \"170556,17.0556,27.2,30,4.6,E. Whiteland,Chester\""
      ]
     },
     "metadata": {},
     "output_type": "display_data"
    },
    {
     "data": {
      "text/html": [
       "<pre>Unable to parse line \"124186,12.4186,19.5,25,8,Aston,Delaware\"</pre>"
      ],
      "text/plain": [
       "Unable to parse line \"124186,12.4186,19.5,25,8,Aston,Delaware\""
      ]
     },
     "metadata": {},
     "output_type": "display_data"
    },
    {
     "data": {
      "text/html": [
       "<pre>Unable to parse line \"147720,14.772,58.6,25,1.5,Plymouth,Montgome\"</pre>"
      ],
      "text/plain": [
       "Unable to parse line \"147720,14.772,58.6,25,1.5,Plymouth,Montgome\""
      ]
     },
     "metadata": {},
     "output_type": "display_data"
    },
    {
     "data": {
      "text/html": [
       "<pre>100 lines failed to parse correctly</pre>"
      ],
      "text/plain": [
       "100 lines failed to parse correctly"
      ]
     },
     "metadata": {},
     "output_type": "display_data"
    },
    {
     "data": {
      "text/html": [
       "<pre>Finished parsing file /Users/Angadlamba21/Machine Learning/regression/Philadelphia_Crime_Rate_noNA.csv</pre>"
      ],
      "text/plain": [
       "Finished parsing file /Users/Angadlamba21/Machine Learning/regression/Philadelphia_Crime_Rate_noNA.csv"
      ]
     },
     "metadata": {},
     "output_type": "display_data"
    },
    {
     "data": {
      "text/html": [
       "<pre>Parsing completed. Parsed 27 lines in 0.013134 secs.</pre>"
      ],
      "text/plain": [
       "Parsing completed. Parsed 27 lines in 0.013134 secs."
      ]
     },
     "metadata": {},
     "output_type": "display_data"
    }
   ],
   "source": [
    "sales = graphlab.SFrame.read_csv('Philadelphia_Crime_Rate_noNA.csv')"
   ]
  },
  {
   "cell_type": "code",
   "execution_count": 11,
   "metadata": {
    "collapsed": false
   },
   "outputs": [
    {
     "data": {
      "text/html": [
       "<div style=\"max-height:1000px;max-width:1500px;overflow:auto;\"><table frame=\"box\" rules=\"cols\">\n",
       "    <tr>\n",
       "        <th style=\"padding-left: 1em; padding-right: 1em; text-align: center\">bplist00�\u0001\u0002_\u0010\u000fWebMainReso<br>urce�\u0003\u0004\u0005\u0006\u0007\b ...</th>\n",
       "    </tr>\n",
       "    <tr>\n",
       "        <td style=\"padding-left: 1em; padding-right: 1em; text-align: center; vertical-align: top\">_\u0010\u0013WebResourceMIMEType_\u0010\u001b<br>WebResourceTextEncodi ...</td>\n",
       "    </tr>\n",
       "    <tr>\n",
       "        <td style=\"padding-left: 1em; padding-right: 1em; text-align: center; vertical-align: top\">position:fixed;</td>\n",
       "    </tr>\n",
       "    <tr>\n",
       "        <td style=\"padding-left: 1em; padding-right: 1em; text-align: center; vertical-align: top\">bottom:-100px;</td>\n",
       "    </tr>\n",
       "    <tr>\n",
       "        <td style=\"padding-left: 1em; padding-right: 1em; text-align: center; vertical-align: top\">right:10px;</td>\n",
       "    </tr>\n",
       "    <tr>\n",
       "        <td style=\"padding-left: 1em; padding-right: 1em; text-align: center; vertical-align: top\">width:227px;</td>\n",
       "    </tr>\n",
       "    <tr>\n",
       "        <td style=\"padding-left: 1em; padding-right: 1em; text-align: center; vertical-align: top\">height:48px;</td>\n",
       "    </tr>\n",
       "    <tr>\n",
       "        <td style=\"padding-left: 1em; padding-right: 1em; text-align: center; vertical-align: top\">z-index:200000;</td>\n",
       "    </tr>\n",
       "    <tr>\n",
       "        <td style=\"padding-left: 1em; padding-right: 1em; text-align: center; vertical-align: top\">cursor:pointer;</td>\n",
       "    </tr>\n",
       "    <tr>\n",
       "        <td style=\"padding-left: 1em; padding-right: 1em; text-align: center; vertical-align: top\">}</td>\n",
       "    </tr>\n",
       "    <tr>\n",
       "        <td style=\"padding-left: 1em; padding-right: 1em; text-align: center; vertical-align: top\">.wikiwand-ext-switch-<br>button-RTL { ...</td>\n",
       "    </tr>\n",
       "</table>\n",
       "[27 rows x 1 columns]<br/>Note: Only the head of the SFrame is printed.<br/>You can use print_rows(num_rows=m, num_columns=n) to print more rows and columns.\n",
       "</div>"
      ],
      "text/plain": [
       "Columns:\n",
       "\tbplist00�\u0001\u0002_\u0010\u000fWebMainResource�\u0003\u0004\u0005\u0006\u0007\b\tstr\n",
       "\n",
       "Rows: 27\n",
       "\n",
       "Data:\n",
       "+-------------------------------+\n",
       "| bplist00�\u0001\u0002_\u0010\u000fWebMainResou... |\n",
       "+-------------------------------+\n",
       "| _\u0010\u0013WebResourceMIMEType_\u0010\u001bW... |\n",
       "|        position:fixed;        |\n",
       "|         bottom:-100px;        |\n",
       "|          right:10px;          |\n",
       "|          width:227px;         |\n",
       "|          height:48px;         |\n",
       "|        z-index:200000;        |\n",
       "|        cursor:pointer;        |\n",
       "|               }               |\n",
       "| .wikiwand-ext-switch-butto... |\n",
       "+-------------------------------+\n",
       "[27 rows x 1 columns]\n",
       "Note: Only the head of the SFrame is printed.\n",
       "You can use print_rows(num_rows=m, num_columns=n) to print more rows and columns."
      ]
     },
     "execution_count": 11,
     "metadata": {},
     "output_type": "execute_result"
    }
   ],
   "source": [
    "sales"
   ]
  },
  {
   "cell_type": "code",
   "execution_count": null,
   "metadata": {
    "collapsed": true
   },
   "outputs": [],
   "source": []
  }
 ],
 "metadata": {
  "kernelspec": {
   "display_name": "Python 2",
   "language": "python",
   "name": "python2"
  },
  "language_info": {
   "codemirror_mode": {
    "name": "ipython",
    "version": 2
   },
   "file_extension": ".py",
   "mimetype": "text/x-python",
   "name": "python",
   "nbconvert_exporter": "python",
   "pygments_lexer": "ipython2",
   "version": "2.7.11"
  }
 },
 "nbformat": 4,
 "nbformat_minor": 0
}
